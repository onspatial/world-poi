{
 "cells": [
  {
   "cell_type": "code",
   "execution_count": null,
   "id": "fafdeded",
   "metadata": {},
   "outputs": [],
   "source": [
    "import os\n",
    "import pyarrow.parquet as pq\n",
    "import report"
   ]
  },
  {
   "cell_type": "code",
   "execution_count": null,
   "id": "f6e923ca",
   "metadata": {},
   "outputs": [],
   "source": [
    "label = [\"_trg\", \"_lev\"][0]\n",
    "data = pq.read_table(f\"../../data/fsq_osm_filtered_5{label}.parquet\", memory_map=True)\n",
    "print(data.column_names)"
   ]
  },
  {
   "cell_type": "code",
   "execution_count": null,
   "id": "589ed4e4",
   "metadata": {},
   "outputs": [],
   "source": [
    "if not os.path.exists(f\"../../data/fsq_osm_filtered_5_map{label}.csv\"):\n",
    "    # map_data = data[[\"fsq_latitude\", \"fsq_longitude\"]]\n",
    "    map_data = data.select([\"fsq_latitude\", \"fsq_longitude\"]).to_pandas()\n",
    "    map_data.to_csv(f\"../../data/fsq_osm_filtered_5_map{label}.csv\", index=False)\n",
    "    pass"
   ]
  },
  {
   "cell_type": "code",
   "execution_count": null,
   "id": "613004c4",
   "metadata": {},
   "outputs": [],
   "source": [
    "save_dir = \"../../visualization/report\"\n",
    "report.plot_count_per_year(data, col='fsq_date_created', save_path=f\"{save_dir}/place_created_per_year{label}.png\")\n",
    "report.plot_count_per_year(data, col='fsq_date_refreshed', save_path=f\"{save_dir}/place_refreshed_per_year{label}.png\")\n",
    "report.plot_distance_hist(data, save_path=f\"{save_dir}/place_distance_hist{label}.png\")\n",
    "report.plot_name_similarity_hist(data, save_path=f\"{save_dir}/place_name_similarity_hist{label}.png\")\n",
    "report.plot_country_distribution(data, save_path=f\"{save_dir}/place_country_distribution{label}.png\")\n",
    "report.plot_region_distribution(data, save_path=f\"{save_dir}/place_region_distribution{label}.png\")\n",
    "report.plot_locality_distribution(data, save_path=f\"{save_dir}/place_locality_distribution{label}.png\")\n",
    "report.plot_category_by_country(data, save_path=f\"{save_dir}/place_category_by_country{label}.png\")\n",
    "report.plot_osm_class_distribution(data, save_path=f\"{save_dir}/place_osm_class_distribution{label}.png\")\n"
   ]
  },
  {
   "cell_type": "code",
   "execution_count": null,
   "id": "9d044378",
   "metadata": {},
   "outputs": [],
   "source": [
    "plot_names = [\n",
    "    \"place_created_per_year\",\n",
    "    \"place_refreshed_per_year\",\n",
    "    \"place_distance_hist\",\n",
    "    \"place_name_similarity_hist\",\n",
    "    \"place_country_distribution\",\n",
    "    \"place_region_distribution\",\n",
    "    \"place_locality_distribution\",\n",
    "    \"place_category_by_country\",\n",
    "    \"place_osm_class_distribution\"\n",
    "]\n",
    "\n",
    "\n",
    "def get_latex_fig(fig_name, left_label, right_label):\n",
    "    figure_latex = f\"\"\"\n",
    "\\\\begin{{figure}}[htbp]\n",
    "    \\\\centering\n",
    "    \\\\begin{{subfigure}}[b]{{0.49\\\\linewidth}}\n",
    "        \\\\centering\n",
    "        \\\\includegraphics[width=\\\\linewidth]{{figs/{fig_name}{left_label}.png}}\n",
    "        \\\\caption{{{fig_name.replace(\"_\", \"-\")}{left_label.replace(\"_\", \"-\")}}}\n",
    "        \\\\label{{fig:{fig_name}{left_label}}}\n",
    "    \\\\end{{subfigure}}\n",
    "    \\\\hfill\n",
    "    \\\\begin{{subfigure}}[b]{{0.49\\\\linewidth}}\n",
    "        \\\\centering\n",
    "        \\\\includegraphics[width=\\\\linewidth]{{figs/{fig_name}{right_label}.png}}\n",
    "        \\\\caption{{{fig_name.replace(\"_\", \"-\")}{right_label.replace(\"_\", \"-\")}}}\n",
    "        \\\\label{{fig:{fig_name}{right_label}}}\n",
    "    \\\\end{{subfigure}}\n",
    "    \\\\caption{{{fig_name.replace(\"_\", \" \").capitalize()}}}\n",
    "    \\\\label{{fig:{fig_name}}}\n",
    "\\\\end{{figure}}\n",
    "\"\"\"\n",
    "    return figure_latex\n",
    "\n",
    "for plot_name in plot_names:\n",
    "    print(get_latex_fig(plot_name, \"_lev\", \"_trg\"))\n",
    "\n",
    "    "
   ]
  }
 ],
 "metadata": {
  "kernelspec": {
   "display_name": "f-osm-knaXSPgc",
   "language": "python",
   "name": "python3"
  },
  "language_info": {
   "codemirror_mode": {
    "name": "ipython",
    "version": 3
   },
   "file_extension": ".py",
   "mimetype": "text/x-python",
   "name": "python",
   "nbconvert_exporter": "python",
   "pygments_lexer": "ipython3",
   "version": "3.12.9"
  }
 },
 "nbformat": 4,
 "nbformat_minor": 5
}
