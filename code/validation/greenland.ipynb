{
 "cells": [
  {
   "cell_type": "code",
   "execution_count": null,
   "id": "9f58e301",
   "metadata": {},
   "outputs": [],
   "source": [
    "import pandas\n"
   ]
  },
  {
   "cell_type": "code",
   "execution_count": null,
   "id": "7a690db8",
   "metadata": {},
   "outputs": [],
   "source": []
  },
  {
   "cell_type": "code",
   "execution_count": null,
   "id": "a25f6796",
   "metadata": {},
   "outputs": [],
   "source": [
    "from shapely.geometry import Point, Polygon\n",
    "green_land_polygon = [(78.823,-72.484),(81.071,-64.823),(82.402,-59.148),(85.022,-56.529),(84.738,-6.328),(67.276,-24.837),(55.970,-45.616),(70.463,-61.593),(77.273,-74.602),(78.823,-72.484)]\n",
    "def get_filtered_df(df, lat_col, lon_col, polygon):\n",
    "    poly = Polygon([(lon, lat) for lat, lon in polygon])  # shapely uses (x=lon, y=lat)\n",
    "    mask = df.apply(lambda row: poly.contains(Point(row[lon_col], row[lat_col])), axis=1)\n",
    "    return df[mask]\n",
    "\n",
    "def get_bounded_df(df, lat_col, lon_col, lat_min, lat_max, lon_min, lon_max):\n",
    "    bounded_df = df[(df[lat_col] >= lat_min) & (df[lat_col] <= lat_max) & (df[lon_col] >= lon_min) & (df[lon_col] <= lon_max)]\n",
    "    return bounded_df\n",
    "\n",
    "def get_osm_processed_df(df):\n",
    "    df['osm_name'] = df.apply(lambda row: get_name(row, 'osm_name'), axis=1)\n",
    "    return df\n",
    "\n",
    "def get_name(row, col_name):\n",
    "    name = row[col_name]\n",
    "    if pandas.isna(name):\n",
    "        return name\n",
    "    if '\"name\"=>\"' in name:\n",
    "        name = name.split('\"name\"=>\"')[1].split('\"')[0]\n",
    "    elif '\"name:en\"=>\"' in name:\n",
    "        name = name.split('\"name:en\"=>\"')[1].split('\"')[0]\n",
    "    elif '\"name:fr\"=>\"' in name:\n",
    "        name = name.split('\"name:fr\"=>\"')[1].split('\"')[0]\n",
    "    elif '\"name:da\"=>\"' in name:\n",
    "        name = name.split('\"name:da\"=>\"')[1].split('\"')[0]\n",
    "    elif '\"name:de\"=>\"' in name:\n",
    "        name = name.split('\"name:de\"=>\"')[1].split('\"')[0]\n",
    "    elif '\"name:\"=>\"' in name:\n",
    "        name = name.split('\"name:\"=>\"')[1].split('\"')[0]\n",
    "    elif 'name:' in name:\n",
    "        print(\"Unexpected name format:\", name)\n",
    "        name = name\n",
    "    else:\n",
    "        name = None\n",
    "    return name\n",
    "\n",
    "def get_fsq_processed_df(df):   \n",
    "    df['fsq_name'] = df['fsq_name'].apply(lambda x: x if (not pandas.isna(x) and len(x) > 10) else None)\n",
    "    return df"
   ]
  },
  {
   "cell_type": "code",
   "execution_count": null,
   "id": "fd7fd456",
   "metadata": {},
   "outputs": [],
   "source": [
    "osm_data = pandas.read_csv(\"../../data/osm_green_land.csv\")\n",
    "osm_filtered = get_filtered_df(osm_data, 'osm_latitude', 'osm_longitude', green_land_polygon)\n",
    "osm_filtered = get_osm_processed_df(osm_filtered)\n"
   ]
  },
  {
   "cell_type": "code",
   "execution_count": null,
   "id": "d9ad52e0",
   "metadata": {},
   "outputs": [],
   "source": [
    "fsq_data = pandas.read_csv(\"../../data/fsq_green_land.csv\")\n",
    "fsq_filtered = get_filtered_df(fsq_data, 'fsq_latitude', 'fsq_longitude', green_land_polygon)\n",
    "# fsq_filtered = get_fsq_processed_df(fsq_filtered)"
   ]
  },
  {
   "cell_type": "code",
   "execution_count": null,
   "id": "6d10650d",
   "metadata": {},
   "outputs": [],
   "source": [
    "fsq_osm_data = pandas.read_csv(\"../../data/fsq_osm_green_land.csv\", low_memory=False)\n",
    "fsq_osm_data = fsq_osm_data[fsq_osm_data['fsq_osm_name_similarity_score'] > 0.5]\n",
    "fsq_osm_filtered = get_filtered_df(fsq_osm_data, 'fsq_latitude', 'fsq_longitude', green_land_polygon)"
   ]
  },
  {
   "cell_type": "code",
   "execution_count": null,
   "id": "aef8d54e",
   "metadata": {},
   "outputs": [],
   "source": [
    "population_data = pandas.read_csv(\"../../data/population.csv\")\n",
    "population_data_filtered = get_filtered_df(population_data, 'Y', 'X', green_land_polygon)"
   ]
  },
  {
   "cell_type": "code",
   "execution_count": null,
   "id": "45e2060f",
   "metadata": {},
   "outputs": [],
   "source": [
    "\n",
    "def show_filtered_data(df,cols,limit=5,label=\"\"):\n",
    "    df = df.dropna(subset=cols)\n",
    "    print(f\"\\\\begin{{table}}[h]\")\n",
    "    print(f\"\\\\caption{{Greenland Sample {label.replace('_', ' ')}}}\")\n",
    "    print(f\"\\\\label{{tab:greenland_sample_{label}}}\")\n",
    "    print(f\"\\\\begin{{tabular}}{{| {' | '.join(['c'] * (len(cols)+1))} |}}\")\n",
    "    print(f\"\\\\hline\")\n",
    "    # df = df.sort_values(by=cols[0])\n",
    "    print(' & '.join(cols).replace('_', '\\\\_') + ' & Note\\\\\\\\ \\\\hline')\n",
    "    counter = 0\n",
    "    for row in df.itertuples():\n",
    "        check = False\n",
    "        for col in cols:\n",
    "            if pandas.isna(getattr(row, col)):\n",
    "                check = True\n",
    "                break\n",
    "            # if its not in english:\n",
    "            if isinstance(getattr(row, col), str) and not all(ord(c) < 128 for c in getattr(row, col)):\n",
    "                check = True\n",
    "                break\n",
    "        if check:\n",
    "            continue\n",
    "        else:\n",
    "            for col in cols[:-1]:\n",
    "                print(f\"{getattr(row, col)}\".replace('_', '\\\\_').replace('&', '\\\\&'), end=\" & \")\n",
    "            print(f\"{getattr(row, cols[-1])}\".replace('_', '\\\\_').replace('&', '\\\\&'), end=\" & \")\n",
    "            print(\" \\\\\\\\ \\\\hline\")\n",
    "        counter += 1\n",
    "        if counter >= limit:\n",
    "            break\n",
    "    print(f\"\\\\end{{tabular}}\")\n",
    "    print(f\"\\\\end{{table}}\")\n",
    "l = 50\n",
    "show_filtered_data(fsq_filtered, ['fsq_name', 'fsq_category_labels'], limit=l, label=\"fsq\")\n",
    "show_filtered_data(osm_filtered, ['osm_name','osm_class','osm_type'], limit=l, label=\"osm\")\n",
    "show_filtered_data(fsq_osm_filtered, ['fsq_name']+['osm_name','osm_type'], limit=l, label=\"fsq_osm\")\n",
    "\n"
   ]
  },
  {
   "cell_type": "code",
   "execution_count": null,
   "id": "8b5e8711",
   "metadata": {},
   "outputs": [],
   "source": [
    "cols = ['fsq_name', 'fsq_category_labels', 'fsq_latitude','fsq_longitude']\n",
    "fsq_filtered[cols].head(100)\n"
   ]
  },
  {
   "cell_type": "code",
   "execution_count": null,
   "id": "53e16f00",
   "metadata": {},
   "outputs": [],
   "source": [
    "cols = ['osm_name','osm_class','osm_type', 'osm_latitude','osm_longitude']\n",
    "# cols = osm_filtered.columns.tolist()\n",
    "osm_filtered[cols].head(100)"
   ]
  },
  {
   "cell_type": "code",
   "execution_count": null,
   "id": "c5ac406e",
   "metadata": {},
   "outputs": [],
   "source": [
    "cols = ['fsq_name',  'osm_name','osm_type', 'fsq_latitude','fsq_longitude','osm_latitude','osm_longitude', 'fsq_category_labels']\n",
    "cols = fsq_osm_filtered.columns.tolist()\n",
    "data = fsq_osm_filtered[cols].head(100)\n",
    "data\n",
    "# print(','.join(cols))\n",
    "# for row in data.itertuples():\n",
    "#     print(f\"{row.fsq_name}\\t & {row.osm_name}\\t & {row.osm_type}\\t & \\\\\\\\ \\hline\\n{row.fsq_latitude},{row.fsq_longitude}\\n{row.osm_latitude},{row.osm_longitude}\\n{row.fsq_category_labels}\\n\")"
   ]
  },
  {
   "cell_type": "code",
   "execution_count": null,
   "id": "efad54f4",
   "metadata": {},
   "outputs": [],
   "source": [
    "osm_filtered.to_csv(\"../../data/osm_green_land_filtered.csv\", index=False)\n",
    "fsq_filtered.to_csv(\"../../data/fsq_green_land_filtered.csv\", index=False)\n",
    "fsq_osm_filtered.to_csv(\"../../data/fsq_osm_green_land_filtered.csv\", index=False)\n",
    "population_data_filtered.to_csv(\"../../data/population_green_land_filtered.csv\", index=False)"
   ]
  }
 ],
 "metadata": {
  "kernelspec": {
   "display_name": "f-osm-knaXSPgc",
   "language": "python",
   "name": "python3"
  },
  "language_info": {
   "codemirror_mode": {
    "name": "ipython",
    "version": 3
   },
   "file_extension": ".py",
   "mimetype": "text/x-python",
   "name": "python",
   "nbconvert_exporter": "python",
   "pygments_lexer": "ipython3",
   "version": "3.12.9"
  }
 },
 "nbformat": 4,
 "nbformat_minor": 5
}
