{
 "cells": [
  {
   "cell_type": "code",
   "execution_count": null,
   "id": "7e28ceb7",
   "metadata": {},
   "outputs": [],
   "source": [
    "import pandas\n",
    "import os\n",
    "import folium\n",
    "import matplotlib.pyplot as plt\n",
    "import pyarrow.parquet as pq\n"
   ]
  },
  {
   "cell_type": "code",
   "execution_count": null,
   "id": "8e008c91",
   "metadata": {},
   "outputs": [],
   "source": [
    "int_columns = []\n",
    "float_columns = [\"fsq_latitude_source\",\"fsq_longitude_source\",\"fsq_latitude_destination\",\"fsq_longitude_destination\",\"distance_m\"]\n",
    "bool_columns = []\n",
    "datetime_columns = []\n",
    "category_columns = []\n",
    "string_columns = [\"fsq_place_id_source\",\"fsq_place_id_destination\"]"
   ]
  },
  {
   "cell_type": "code",
   "execution_count": null,
   "id": "3074b74e",
   "metadata": {},
   "outputs": [],
   "source": [
    "def get_typed_df(df):\n",
    "    current_columns = df.columns\n",
    "    for col in current_columns:\n",
    "        if col in string_columns:\n",
    "            df[col] = df[col].astype(\"string\")\n",
    "        elif col in float_columns:\n",
    "            df[col] = pandas.to_numeric(df[col], downcast=\"float\")\n",
    "        elif col in int_columns:\n",
    "            df[col] = pandas.to_numeric(df[col], downcast=\"integer\")\n",
    "        elif col in bool_columns:\n",
    "            df[col] = df[col].astype(\"boolean\")\n",
    "        elif col in datetime_columns:\n",
    "            df[col] = pandas.to_datetime(df[col])\n",
    "        elif col in category_columns:\n",
    "            df[col] = df[col].astype(\"category\")\n",
    "        else:\n",
    "            df[col] = df[col].astype(\"string\")\n",
    "    return df"
   ]
  },
  {
   "cell_type": "code",
   "execution_count": null,
   "id": "79ff5c1d",
   "metadata": {},
   "outputs": [],
   "source": [
    "def get_pyarrow_table(csv_path,columns=None):\n",
    "    parquet_path = csv_path.replace(\".csv\", \".parquet\")\n",
    "    if os.path.exists(parquet_path):\n",
    "        return pq.read_table(parquet_path, memory_map=True, columns=columns)\n",
    "    else:\n",
    "        df = pandas.read_csv(csv_path)\n",
    "        df = get_typed_df(df)\n",
    "        df.to_parquet(parquet_path)\n",
    "        return df\n"
   ]
  },
  {
   "cell_type": "code",
   "execution_count": null,
   "id": "16fd0467",
   "metadata": {},
   "outputs": [],
   "source": [
    "# graph_df = pandas.read_csv(\"../../data/fsq_graph_10_visualization.csv\", memory_map=True)\n",
    "# graph_df = get_typed_df(graph_df)\n"
   ]
  },
  {
   "cell_type": "code",
   "execution_count": null,
   "id": "bb0f7ba9",
   "metadata": {},
   "outputs": [],
   "source": [
    "def get_small_graph(graph_table):\n",
    "    # 33.734413222285156, -84.40355678314575\n",
    "    # 33.7664799038100\n",
    "    # min_lat = 33.75\n",
    "    # max_lat = 33.85\n",
    "    # min_lon = -84.50\n",
    "    # max_lon = -84.25\n",
    "    # 33.79130830315423, -84.33371698363095 to 33.80415898992885, -84.31803670061207\n",
    "    min_lat = 33.79\n",
    "    max_lat = 33.81\n",
    "    min_lon = -84.34\n",
    "    max_lon = -84.31\n",
    "    graph_df = graph_table.to_pandas()\n",
    "    small_graph_df = graph_df[graph_df[\"fsq_latitude_source\"] > min_lat]\n",
    "    small_graph_df = small_graph_df[small_graph_df[\"fsq_latitude_source\"] < max_lat]\n",
    "    small_graph_df = small_graph_df[small_graph_df[\"fsq_longitude_source\"] > min_lon]\n",
    "    small_graph_df = small_graph_df[small_graph_df[\"fsq_longitude_source\"] < max_lon]\n",
    "    return small_graph_df"
   ]
  },
  {
   "cell_type": "code",
   "execution_count": null,
   "id": "b8d39abd",
   "metadata": {},
   "outputs": [],
   "source": [
    "graph_table = get_pyarrow_table(\"../../data/fsq_graph_10_visualization.csv\",columns=[\"fsq_place_id_source\",\"fsq_latitude_source\",\"fsq_longitude_source\"])"
   ]
  },
  {
   "cell_type": "code",
   "execution_count": null,
   "id": "72dcba5e",
   "metadata": {},
   "outputs": [],
   "source": [
    "def get_scaled_values(series, new_min, new_max):\n",
    "    min_val = series.min()\n",
    "    max_val = series.max()\n",
    "    scaled_series = (series - min_val) / (max_val - min_val) * (new_max - new_min) + new_min\n",
    "    return scaled_series\n",
    "small_graph = get_small_graph(graph_table)\n",
    "# small_graph[\"distance_m\"] = get_scaled_values(small_graph[\"distance_m\"], 0, 1)\n",
    "\n"
   ]
  },
  {
   "cell_type": "code",
   "execution_count": null,
   "metadata": {},
   "outputs": [],
   "source": [
    "small_graph\n",
    "for row in small_graph.itertuples():\n",
    "    print(f\"{row.fsq_place_id_source}, {round(row.fsq_latitude_source,7)}, {round(row.fsq_longitude_source,7)}\")"
   ]
  },
  {
   "cell_type": "code",
   "execution_count": null,
   "id": "35861ce8",
   "metadata": {},
   "outputs": [],
   "source": [
    "def create_html_map(df, save_path=\"df_visualization.html\"):\n",
    "    m = folium.Map(location=[df[\"fsq_latitude_source\"].mean(), df[\"fsq_longitude_source\"].mean()], zoom_start=10)\n",
    "    for index, row in df.iterrows():\n",
    "        \n",
    "        folium.PolyLine(\n",
    "            locations=[\n",
    "                [row[\"fsq_latitude_source\"], row[\"fsq_longitude_source\"]],\n",
    "                [row[\"fsq_latitude_destination\"], row[\"fsq_longitude_destination\"]],\n",
    "            ],\n",
    "            color=\"red\",\n",
    "            weight=2,\n",
    "            opacity=1-row[\"distance_m\"],\n",
    "        ).add_to(m)\n",
    "        folium.CircleMarker(\n",
    "            location=[row[\"fsq_latitude_source\"], row[\"fsq_longitude_source\"]],\n",
    "            radius=4,\n",
    "            color=\"blue\",\n",
    "            fill=True,\n",
    "            fill_color=\"blue\",\n",
    "            fill_opacity=1,\n",
    "        ).add_to(m)\n",
    "        folium.CircleMarker(\n",
    "            location=[row[\"fsq_latitude_destination\"], row[\"fsq_longitude_destination\"]],\n",
    "            radius=4,\n",
    "            color=\"blue\",\n",
    "            fill=True,\n",
    "            fill_color=\"blue\",\n",
    "            fill_opacity=1,\n",
    "        ).add_to(m)\n",
    "    m.save(save_path)\n",
    "create_html_map(small_graph, \"../../visualization/small_graph.html\")\n"
   ]
  },
  {
   "cell_type": "code",
   "execution_count": null,
   "id": "959a961e",
   "metadata": {},
   "outputs": [],
   "source": []
  },
  {
   "cell_type": "code",
   "execution_count": null,
   "id": "624043db",
   "metadata": {},
   "outputs": [],
   "source": [
    "temp_table = graph_table[:5]\n",
    "columns = temp_table.column_names\n",
    "fsq_longitude_source_index = columns.index(\"fsq_longitude_source\")\n",
    "fsq_latitude_source_index = columns.index(\"fsq_latitude_source\")\n",
    "fsq_longitude_destination_index = columns.index(\"fsq_longitude_destination\")\n",
    "fsq_latitude_destination_index = columns.index(\"fsq_latitude_destination\")\n",
    "print(temp_table)\n",
    "# table elements all  # to str\n",
    "temp_table = [[str(cell) for cell in row] for row in temp_table]\n",
    "\n",
    "print(temp_table[1][0])\n",
    "for i in range(0, len(temp_table)):\n",
    "    longitude_source = temp_table[fsq_longitude_source_index][i]\n",
    "    latitude_source = temp_table[fsq_latitude_source_index][i]\n",
    "    longitude_destination = temp_table[fsq_longitude_destination_index][i]\n",
    "    latitude_destination = temp_table[fsq_latitude_destination_index][i]\n",
    "    print(longitude_source, latitude_source, longitude_destination, latitude_destination)\n"
   ]
  },
  {
   "cell_type": "code",
   "execution_count": null,
   "id": "02ebab94",
   "metadata": {},
   "outputs": [],
   "source": [
    "def create_png_map(table, save_path=\"table_visualization.png\"):\n",
    "    # pull numeric arrays from columns\n",
    "    lon_s = table[\"fsq_longitude_source\"].to_numpy(zero_copy_only=False)\n",
    "    lat_s = table[\"fsq_latitude_source\"].to_numpy(zero_copy_only=False)\n",
    "    lon_d = table[\"fsq_longitude_destination\"].to_numpy(zero_copy_only=False)\n",
    "    lat_d = table[\"fsq_latitude_destination\"].to_numpy(zero_copy_only=False)\n",
    "\n",
    "    fig, ax = plt.subplots(figsize=(10, 10))\n",
    "    ax.set_xlim(-180, 180)\n",
    "    ax.set_ylim(-90, 90)\n",
    "\n",
    "    n = table.num_rows\n",
    "    for i in range(n):\n",
    "        ax.plot([lon_s[i], lon_d[i]], [lat_s[i], lat_d[i]],\n",
    "                color=\"red\", linewidth=1, alpha=0.7)\n",
    "\n",
    "    ax.set_axis_off()\n",
    "    plt.savefig(save_path, bbox_inches=\"tight\", pad_inches=0.1, dpi=600, transparent=True)\n",
    "    plt.close()\n",
    "# create_png_map(graph_table, \"../../visualization/graph_table.png\")"
   ]
  }
 ],
 "metadata": {
  "kernelspec": {
   "display_name": "f-osm-knaXSPgc",
   "language": "python",
   "name": "python3"
  },
  "language_info": {
   "codemirror_mode": {
    "name": "ipython",
    "version": 3
   },
   "file_extension": ".py",
   "mimetype": "text/x-python",
   "name": "python",
   "nbconvert_exporter": "python",
   "pygments_lexer": "ipython3",
   "version": "3.12.9"
  }
 },
 "nbformat": 4,
 "nbformat_minor": 5
}
